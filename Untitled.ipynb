{
 "cells": [
  {
   "cell_type": "markdown",
   "id": "a2e0a4a5",
   "metadata": {},
   "source": [
    "### Find Factorial of a number using Iteration.\n"
   ]
  },
  {
   "cell_type": "code",
   "execution_count": null,
   "id": "840df199",
   "metadata": {},
   "outputs": [],
   "source": [
    "def factorial(n):\n",
    "    n=1\n",
    "    \n",
    "    if n==1 and n==0:\n",
    "        return 1\n",
    "        n+=1\n",
    "    \n",
    "    else:\n",
    "        return n*factorial(n-1)\n",
    "       \n",
    "factorial(3)  "
   ]
  },
  {
   "cell_type": "code",
   "execution_count": null,
   "id": "e4ea923f",
   "metadata": {},
   "outputs": [],
   "source": []
  },
  {
   "cell_type": "code",
   "execution_count": null,
   "id": "16a8fb1a",
   "metadata": {},
   "outputs": [],
   "source": []
  }
 ],
 "metadata": {
  "kernelspec": {
   "display_name": "Python 3 (ipykernel)",
   "language": "python",
   "name": "python3"
  },
  "language_info": {
   "codemirror_mode": {
    "name": "ipython",
    "version": 3
   },
   "file_extension": ".py",
   "mimetype": "text/x-python",
   "name": "python",
   "nbconvert_exporter": "python",
   "pygments_lexer": "ipython3",
   "version": "3.8.10"
  }
 },
 "nbformat": 4,
 "nbformat_minor": 5
}
