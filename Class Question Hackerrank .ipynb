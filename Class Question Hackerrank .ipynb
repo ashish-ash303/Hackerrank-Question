{
 "cells": [
  {
   "cell_type": "markdown",
   "id": "d37e8094",
   "metadata": {},
   "source": [
    "fig = px.pie(df, names = \"serum_creatinine\",\n",
    "             title = \"<b>r</b>\",\n",
    "             hole = 0.5, template = \"plotly_dark\")\n",
    "\n",
    "fig.update_traces(textposition='inside',\n",
    "                  textinfo='percent+label',\n",
    "                  marker=dict(line=dict(color='#000000', width = 1.5)))\n",
    "\n",
    "\n",
    "fig.show()"
   ]
  },
  {
   "cell_type": "markdown",
   "id": "22ada60d",
   "metadata": {},
   "source": [
    "Task\n",
    "Write a Person class with an instance variable,age , and a constructor that takes an integer,initialage , as a parameter. The constructor must assign initialage  to age after confirming the argument passed as  is not negative; if a negative argument is passed as , the constructor should set  to  and print Age is not valid, setting age to 0..\n",
    "\n",
    "In addition, you must write the following instance methods:\n",
    "\n",
    "1. yearPasses() should increase the  instance variable by .\n",
    "2. amIOld() should perform the following conditional actions:\n",
    "\n",
    "If age <13 , print You are young..\n",
    "\n",
    "\n",
    "If  age>=13andage<18 , print You are a teenager..\n",
    "\n",
    "\n",
    "\n",
    "Otherwise, print You are old..\n",
    "\n",
    "\n",
    "To help you learn by example and complete this challenge, much of the code is provided for you, but you'll be writing everything in the future. The code that creates each instance of your Person class is in the main method. Don't worry if you don't understand it all quite yet!\n",
    "\n",
    "Note: Do not remove or alter the stub code in the editor."
   ]
  },
  {
   "cell_type": "code",
   "execution_count": 1,
   "id": "32690811",
   "metadata": {},
   "outputs": [
    {
     "name": "stdout",
     "output_type": "stream",
     "text": [
      "4\n",
      "-1\n",
      "Age is not valid, setting age to 0.\n",
      "You are young.\n",
      "You are young.\n",
      "\n",
      "14\n",
      "You are a teenager.\n",
      "You are a teenager.\n",
      "\n",
      "-3\n",
      "Age is not valid, setting age to 0.\n",
      "You are young.\n",
      "You are young.\n",
      "\n",
      "19\n",
      "You are old.\n",
      "You are old.\n",
      "\n"
     ]
    }
   ],
   "source": [
    "class Person:\n",
    "    def __init__(self,initialAge):\n",
    "        self.age=0\n",
    "        if initialAge<0:\n",
    "            print(\"Age is not valid, setting age to 0.\")\n",
    "        else:\n",
    "            self.age=initialAge\n",
    "        \n",
    "        \n",
    "        \n",
    "    def amIOld(self):\n",
    "        if age<13:\n",
    "            print(\"You are young.\")\n",
    "        elif age>=13 and age <18:\n",
    "            print(\"You are a teenager.\")\n",
    "        else:\n",
    "            print(\"You are old.\")\n",
    "        \n",
    "    def yearPasses(self):\n",
    "        global age\n",
    "        age+=1\n",
    "\n",
    "\n",
    "t = int(input())\n",
    "for i in range(0, t):\n",
    "    age = int(input())         \n",
    "    p = Person(age)  \n",
    "    p.amIOld()\n",
    "    for j in range(0, 3):\n",
    "        p.yearPasses()       \n",
    "    p.amIOld()\n",
    "    print(\"\")"
   ]
  },
  {
   "cell_type": "code",
   "execution_count": null,
   "id": "0841cd9c",
   "metadata": {},
   "outputs": [],
   "source": []
  }
 ],
 "metadata": {
  "kernelspec": {
   "display_name": "Python 3 (ipykernel)",
   "language": "python",
   "name": "python3"
  },
  "language_info": {
   "codemirror_mode": {
    "name": "ipython",
    "version": 3
   },
   "file_extension": ".py",
   "mimetype": "text/x-python",
   "name": "python",
   "nbconvert_exporter": "python",
   "pygments_lexer": "ipython3",
   "version": "3.8.10"
  }
 },
 "nbformat": 4,
 "nbformat_minor": 5
}
