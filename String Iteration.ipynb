{
 "cells": [
  {
   "cell_type": "markdown",
   "id": "ae813b71",
   "metadata": {},
   "source": [
    "## Given a string,S , of length N that is indexed from 0 to N-1 , print its even-indexed and odd-indexed characters as 2 space-separated strings on a single line (see the Sample below for more detail).\n",
    "\n",
    "**Note:** 0 is considered to be an even index.\n",
    "\n",
    "**Example:**\n",
    "\n",
    "`s= abcdef`\n",
    "\n",
    "\n",
    "Print `abc` `def`\n",
    "\n",
    "**Input Format:**\n",
    "\n",
    "The first line contains an integer,  (the number of test cases).\n",
    "\n",
    "\n",
    "Each line  of the  subsequent lines contain a string, .\n",
    "\n",
    "\n",
    "**Sample Input**\n",
    "\n",
    "`2`\n",
    "\n",
    "`Hacker` \n",
    "\n",
    "\n",
    "`Rank`\n",
    "\n",
    "\n",
    "\n",
    "**Sample Output**\n",
    "\n",
    "`Hce akr`\n",
    "\n",
    "\n",
    "`Rn ak`"
   ]
  },
  {
   "cell_type": "code",
   "execution_count": 1,
   "id": "23f257fa",
   "metadata": {},
   "outputs": [
    {
     "name": "stdout",
     "output_type": "stream",
     "text": [
      "2\n",
      "Ashish\n",
      "Ahs sih\n",
      "Python\n",
      "Pto yhn\n"
     ]
    }
   ],
   "source": [
    "for i in range(int(input())):\n",
    "    s = input()\n",
    "    print(s[::2], s[1::2])\n",
    "\n"
   ]
  },
  {
   "cell_type": "code",
   "execution_count": null,
   "id": "98c93a35",
   "metadata": {},
   "outputs": [],
   "source": []
  }
 ],
 "metadata": {
  "kernelspec": {
   "display_name": "Python 3 (ipykernel)",
   "language": "python",
   "name": "python3"
  },
  "language_info": {
   "codemirror_mode": {
    "name": "ipython",
    "version": 3
   },
   "file_extension": ".py",
   "mimetype": "text/x-python",
   "name": "python",
   "nbconvert_exporter": "python",
   "pygments_lexer": "ipython3",
   "version": "3.8.10"
  }
 },
 "nbformat": 4,
 "nbformat_minor": 5
}
